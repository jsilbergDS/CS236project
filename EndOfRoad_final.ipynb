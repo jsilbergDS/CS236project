{
  "nbformat": 4,
  "nbformat_minor": 0,
  "metadata": {
    "accelerator": "GPU",
    "colab": {
      "name": "EndOfRoad-final.ipynb",
      "provenance": [],
      "collapsed_sections": [],
      "machine_shape": "hm",
      "include_colab_link": true
    },
    "kernelspec": {
      "display_name": "Python 3",
      "name": "python3"
    },
    "language_info": {
      "name": "python"
    }
  },
  "cells": [
    {
      "cell_type": "markdown",
      "metadata": {
        "id": "view-in-github",
        "colab_type": "text"
      },
      "source": [
        "<a href=\"https://colab.research.google.com/github/jsilbergDS/CS236project/blob/main/EndOfRoad_final.ipynb\" target=\"_parent\"><img src=\"https://colab.research.google.com/assets/colab-badge.svg\" alt=\"Open In Colab\"/></a>"
      ]
    },
    {
      "cell_type": "markdown",
      "source": [
        "Adapted from: https://github.com/JiahuiYu/generative_inpainting\n",
        "\n"
      ],
      "metadata": {
        "id": "ArQYrHCME-Vb"
      }
    },
    {
      "cell_type": "code",
      "metadata": {
        "colab": {
          "base_uri": "https://localhost:8080/"
        },
        "id": "jpMExehptZ79",
        "outputId": "fbb76c57-8b95-47aa-8272-c4fc47c6ea51"
      },
      "source": [
        "!pip install git+https://github.com/JiahuiYu/neuralgym\n",
        "!git clone https://github.com/JiahuiYu/generative_inpainting.git"
      ],
      "execution_count": null,
      "outputs": [
        {
          "output_type": "stream",
          "name": "stdout",
          "text": [
            "Collecting git+https://github.com/JiahuiYu/neuralgym\n",
            "  Cloning https://github.com/JiahuiYu/neuralgym to /tmp/pip-req-build-7o5_gr9d\n",
            "  Running command git clone -q https://github.com/JiahuiYu/neuralgym /tmp/pip-req-build-7o5_gr9d\n",
            "Building wheels for collected packages: neuralgym\n",
            "  Building wheel for neuralgym (setup.py) ... \u001b[?25l\u001b[?25hdone\n",
            "  Created wheel for neuralgym: filename=neuralgym-0.0.1-py3-none-any.whl size=40441 sha256=8f7a986ebabf4b1f8c60ea3bd0c784e43df4547484f95b517cfbbdeda4440880\n",
            "  Stored in directory: /tmp/pip-ephem-wheel-cache-52b7k2eg/wheels/bf/3a/34/026a730c199a8c4cb5da3c052c71801eaf6618c4771d7faab2\n",
            "Successfully built neuralgym\n",
            "Installing collected packages: neuralgym\n",
            "Successfully installed neuralgym-0.0.1\n"
          ]
        }
      ]
    },
    {
      "cell_type": "code",
      "metadata": {
        "colab": {
          "base_uri": "https://localhost:8080/"
        },
        "id": "XWzYp9J0exPo",
        "outputId": "78e8aedb-8fdc-4c2e-812b-b1a9147d230c"
      },
      "source": [
        "%tensorflow_version 1.x"
      ],
      "execution_count": null,
      "outputs": [
        {
          "output_type": "stream",
          "name": "stdout",
          "text": [
            "TensorFlow 1.x selected.\n"
          ]
        }
      ]
    },
    {
      "cell_type": "code",
      "metadata": {
        "id": "goayV4qGt8ub"
      },
      "source": [
        "import os\n",
        "training_file_names = []\n",
        "validation_file_names = []\n",
        "overall_dir = '/content/drive/MyDrive/BayArea500NoHighways/train'\n",
        "file_list = [f for f in os.listdir(overall_dir) if not f.startswith('.')] \n",
        "for file in file_list:\n",
        "  training_file_names.append(overall_dir+file)\n",
        "overall_dir = '/content/drive/MyDrive/BayArea500NoHighways/train'\n",
        "file_list = [f for f in os.listdir(overall_dir) if not f.startswith('.')] \n",
        "for file in file_list:\n",
        "  validation_file_names.append(overall_dir+file)\n",
        "\n",
        "\n",
        "with open(\"train_shuffled.flist\", \"w\") as train_out:\n",
        "  train_out.write(\"\\n\".join(training_file_names))\n",
        "\n",
        "with open(\"validation.flist\", \"w\") as val_out:\n",
        "  val_out.write(\"\\n\".join(validation_file_names))\n",
        "  \n"
      ],
      "execution_count": null,
      "outputs": []
    },
    {
      "cell_type": "markdown",
      "source": [
        "I modify inpaint.yml to load the places2 model as a starting point\n",
        "\n",
        "\n",
        "\n",
        "```\n",
        "model_restore: '/content/drive/MyDrive/generative_inpainting/logs/places2' \n",
        "```\n",
        "\n"
      ],
      "metadata": {
        "id": "NhYP-0rFC_z1"
      }
    },
    {
      "cell_type": "code",
      "source": [
        "!python /content/drive/MyDrive/generative_inpainting/train.py"
      ],
      "metadata": {
        "id": "JSMFzkNFBgxW"
      },
      "execution_count": null,
      "outputs": []
    },
    {
      "cell_type": "markdown",
      "source": [
        "For the pix2pix masks I replaced the following code in inpaint_ops:\n",
        "\n",
        "Replace: \n",
        "\n",
        "\n",
        "\n",
        "```\n",
        " def generate_mask(H, W):\n",
        "        average_radius = math.sqrt(H*H+W*W) / 8\n",
        "        mask = Image.new('L', (W, H), 0)\n",
        "\n",
        "        for _ in range(np.random.randint(1, 4)):\n",
        "            num_vertex = np.random.randint(min_num_vertex, max_num_vertex)\n",
        "            angle_min = mean_angle - np.random.uniform(0, angle_range)\n",
        "            angle_max = mean_angle + np.random.uniform(0, angle_range)\n",
        "            angles = []\n",
        "            vertex = []\n",
        "            for i in range(num_vertex):\n",
        "                if i % 2 == 0:\n",
        "                    angles.append(2*math.pi - np.random.uniform(angle_min, angle_max))\n",
        "                else:\n",
        "                    angles.append(np.random.uniform(angle_min, angle_max))\n",
        "\n",
        "            h, w = mask.size\n",
        "            vertex.append((int(np.random.randint(0, w)), int(np.random.randint(0, h))))\n",
        "            for i in range(num_vertex):\n",
        "                r = np.clip(\n",
        "                    np.random.normal(loc=average_radius, scale=average_radius//2),\n",
        "                    0, 2*average_radius)\n",
        "                new_x = np.clip(vertex[-1][0] + r * math.cos(angles[i]), 0, w)\n",
        "                new_y = np.clip(vertex[-1][1] + r * math.sin(angles[i]), 0, h)\n",
        "                vertex.append((int(new_x), int(new_y)))\n",
        "\n",
        "            draw = ImageDraw.Draw(mask)\n",
        "            width = int(np.random.uniform(min_width, max_width))\n",
        "            draw.line(vertex, fill=1, width=width)\n",
        "            for v in vertex:\n",
        "                draw.ellipse((v[0] - width//2,\n",
        "                              v[1] - width//2,\n",
        "                              v[0] + width//2,\n",
        "                              v[1] + width//2),\n",
        "                             fill=1)\n",
        "\n",
        "        if np.random.normal() > 0:\n",
        "            mask.transpose(Image.FLIP_LEFT_RIGHT)\n",
        "        if np.random.normal() > 0:\n",
        "            mask.transpose(Image.FLIP_TOP_BOTTOM)\n",
        "        mask = np.asarray(mask, np.float32)\n",
        "        mask = np.reshape(mask, (1, H, W, 1))\n",
        "        return mask\n",
        "```\n",
        "\n",
        "With: \n",
        "\n",
        "```\n",
        "    def generate_mask(H, W):\n",
        "        new_rand = np.random.randint(1,250)\n",
        "        sec_rand = np.random.randint(0,7)\n",
        "        mask = Image.open(\"/content/drive/MyDrive/fixed_masks/output_\"+str(new_rand)+\"_fake_B_\"+str(sec_rand)+\".png\")\n",
        "        print(new_rand,\" \",sec_rand)\n",
        "        if np.random.normal() > 0:\n",
        "            mask.transpose(Image.FLIP_LEFT_RIGHT)\n",
        "        if np.random.normal() > 0:\n",
        "            mask.transpose(Image.FLIP_TOP_BOTTOM)\n",
        "        mask = np.asarray(mask, np.float32)\n",
        "        mask = mask[:,:,0]\n",
        "        mask = np.reshape(mask, (1, H, W, 1))\n",
        "        return mask\n",
        "\n",
        "```\n",
        "```"
      ],
      "metadata": {
        "id": "nKVCwJu0BifN"
      }
    },
    {
      "cell_type": "markdown",
      "source": [
        "### Image generation ###"
      ],
      "metadata": {
        "id": "f6Z1rdI9DYqW"
      }
    },
    {
      "cell_type": "markdown",
      "source": [
        "I modify below to generate all test set outputs. Bay_only is the fine-tuned model. "
      ],
      "metadata": {
        "id": "AoZ4NVoWE1Df"
      }
    },
    {
      "cell_type": "code",
      "metadata": {
        "id": "jj_FokSWyQt9"
      },
      "source": [
        "%cd /content/drive/MyDrive/generative_inpainting\n",
        "!python /content/drive/MyDrive/generative_inpainting/test.py --image /content/drive/MyDrive/NOLATest/test/output_5.png --mask /content/drive/MyDrive/test_masks/output_5_fake_B_0.png --output /content/drive/MyDrive/NOLATest/test/output_5_gen_final.png --checkpoint_dir /content/drive/MyDrive/generative_inpainting/logs/bay_only\n"
      ],
      "execution_count": null,
      "outputs": []
    },
    {
      "cell_type": "markdown",
      "source": [
        "### Metrics ###"
      ],
      "metadata": {
        "id": "jm2VS8OjDc5j"
      }
    },
    {
      "cell_type": "markdown",
      "source": [
        "The following section prepares the files to call batch_test.py on my 54 validation image / generated image **pairs**"
      ],
      "metadata": {
        "id": "fL28a953Dg3w"
      }
    },
    {
      "cell_type": "code",
      "metadata": {
        "colab": {
          "base_uri": "https://localhost:8080/"
        },
        "id": "h8bRBofwazNg",
        "outputId": "3b3f0422-76e1-42e3-d644-ae2cf4be4ea5"
      },
      "source": [
        "import os\n",
        "LPIPS_file_names = []\n",
        "overall_dir = '/content/drive/MyDrive/BayArea500NoHighways/val/'\n",
        "file_list = [f for f in os.listdir(overall_dir) if not f.startswith('.')] \n",
        "i = 0\n",
        "for file in file_list:\n",
        "  LPIPS_file_names.append(overall_dir+file+\" \"+\"/content/drive/MyDrive/fixed_masks/output_\"+str(i)+\"_fake_B_0.png\"+\" \"+\"/content/drive/MyDrive/BayArea500NoHighways/metrics/out_\"+file)\n",
        "  i+=1\n",
        "with open(\"/content/test.flist\", \"w\") as val_out:\n",
        "  val_out.write(\"\\n\".join(LPIPS_file_names))"
      ],
      "execution_count": null,
      "outputs": [
        {
          "output_type": "stream",
          "name": "stdout",
          "text": [
            "['/content/drive/MyDrive/BayArea500NoHighways/val/output_451.png /content/drive/MyDrive/fixed_masks/output_0_fake_B_0.png /content/drive/MyDrive/BayArea500NoHighways/bad/out_output_451.png', '/content/drive/MyDrive/BayArea500NoHighways/val/output_453.png /content/drive/MyDrive/fixed_masks/output_1_fake_B_0.png /content/drive/MyDrive/BayArea500NoHighways/bad/out_output_453.png', '/content/drive/MyDrive/BayArea500NoHighways/val/output_452.png /content/drive/MyDrive/fixed_masks/output_2_fake_B_0.png /content/drive/MyDrive/BayArea500NoHighways/bad/out_output_452.png', '/content/drive/MyDrive/BayArea500NoHighways/val/output_454.png /content/drive/MyDrive/fixed_masks/output_3_fake_B_0.png /content/drive/MyDrive/BayArea500NoHighways/bad/out_output_454.png', '/content/drive/MyDrive/BayArea500NoHighways/val/output_456.png /content/drive/MyDrive/fixed_masks/output_4_fake_B_0.png /content/drive/MyDrive/BayArea500NoHighways/bad/out_output_456.png', '/content/drive/MyDrive/BayArea500NoHighways/val/output_455.png /content/drive/MyDrive/fixed_masks/output_5_fake_B_0.png /content/drive/MyDrive/BayArea500NoHighways/bad/out_output_455.png', '/content/drive/MyDrive/BayArea500NoHighways/val/output_457.png /content/drive/MyDrive/fixed_masks/output_6_fake_B_0.png /content/drive/MyDrive/BayArea500NoHighways/bad/out_output_457.png', '/content/drive/MyDrive/BayArea500NoHighways/val/output_459.png /content/drive/MyDrive/fixed_masks/output_7_fake_B_0.png /content/drive/MyDrive/BayArea500NoHighways/bad/out_output_459.png', '/content/drive/MyDrive/BayArea500NoHighways/val/output_458.png /content/drive/MyDrive/fixed_masks/output_8_fake_B_0.png /content/drive/MyDrive/BayArea500NoHighways/bad/out_output_458.png', '/content/drive/MyDrive/BayArea500NoHighways/val/output_460.png /content/drive/MyDrive/fixed_masks/output_9_fake_B_0.png /content/drive/MyDrive/BayArea500NoHighways/bad/out_output_460.png', '/content/drive/MyDrive/BayArea500NoHighways/val/output_462.png /content/drive/MyDrive/fixed_masks/output_10_fake_B_0.png /content/drive/MyDrive/BayArea500NoHighways/bad/out_output_462.png', '/content/drive/MyDrive/BayArea500NoHighways/val/output_461.png /content/drive/MyDrive/fixed_masks/output_11_fake_B_0.png /content/drive/MyDrive/BayArea500NoHighways/bad/out_output_461.png', '/content/drive/MyDrive/BayArea500NoHighways/val/output_463.png /content/drive/MyDrive/fixed_masks/output_12_fake_B_0.png /content/drive/MyDrive/BayArea500NoHighways/bad/out_output_463.png', '/content/drive/MyDrive/BayArea500NoHighways/val/output_464.png /content/drive/MyDrive/fixed_masks/output_13_fake_B_0.png /content/drive/MyDrive/BayArea500NoHighways/bad/out_output_464.png', '/content/drive/MyDrive/BayArea500NoHighways/val/output_465.png /content/drive/MyDrive/fixed_masks/output_14_fake_B_0.png /content/drive/MyDrive/BayArea500NoHighways/bad/out_output_465.png', '/content/drive/MyDrive/BayArea500NoHighways/val/output_466.png /content/drive/MyDrive/fixed_masks/output_15_fake_B_0.png /content/drive/MyDrive/BayArea500NoHighways/bad/out_output_466.png', '/content/drive/MyDrive/BayArea500NoHighways/val/output_467.png /content/drive/MyDrive/fixed_masks/output_16_fake_B_0.png /content/drive/MyDrive/BayArea500NoHighways/bad/out_output_467.png', '/content/drive/MyDrive/BayArea500NoHighways/val/output_468.png /content/drive/MyDrive/fixed_masks/output_17_fake_B_0.png /content/drive/MyDrive/BayArea500NoHighways/bad/out_output_468.png', '/content/drive/MyDrive/BayArea500NoHighways/val/output_469.png /content/drive/MyDrive/fixed_masks/output_18_fake_B_0.png /content/drive/MyDrive/BayArea500NoHighways/bad/out_output_469.png', '/content/drive/MyDrive/BayArea500NoHighways/val/output_470.png /content/drive/MyDrive/fixed_masks/output_19_fake_B_0.png /content/drive/MyDrive/BayArea500NoHighways/bad/out_output_470.png', '/content/drive/MyDrive/BayArea500NoHighways/val/output_471.png /content/drive/MyDrive/fixed_masks/output_20_fake_B_0.png /content/drive/MyDrive/BayArea500NoHighways/bad/out_output_471.png', '/content/drive/MyDrive/BayArea500NoHighways/val/output_472.png /content/drive/MyDrive/fixed_masks/output_21_fake_B_0.png /content/drive/MyDrive/BayArea500NoHighways/bad/out_output_472.png', '/content/drive/MyDrive/BayArea500NoHighways/val/output_473.png /content/drive/MyDrive/fixed_masks/output_22_fake_B_0.png /content/drive/MyDrive/BayArea500NoHighways/bad/out_output_473.png', '/content/drive/MyDrive/BayArea500NoHighways/val/output_474.png /content/drive/MyDrive/fixed_masks/output_23_fake_B_0.png /content/drive/MyDrive/BayArea500NoHighways/bad/out_output_474.png', '/content/drive/MyDrive/BayArea500NoHighways/val/output_475.png /content/drive/MyDrive/fixed_masks/output_24_fake_B_0.png /content/drive/MyDrive/BayArea500NoHighways/bad/out_output_475.png', '/content/drive/MyDrive/BayArea500NoHighways/val/output_476.png /content/drive/MyDrive/fixed_masks/output_25_fake_B_0.png /content/drive/MyDrive/BayArea500NoHighways/bad/out_output_476.png', '/content/drive/MyDrive/BayArea500NoHighways/val/output_477.png /content/drive/MyDrive/fixed_masks/output_26_fake_B_0.png /content/drive/MyDrive/BayArea500NoHighways/bad/out_output_477.png', '/content/drive/MyDrive/BayArea500NoHighways/val/output_479.png /content/drive/MyDrive/fixed_masks/output_27_fake_B_0.png /content/drive/MyDrive/BayArea500NoHighways/bad/out_output_479.png', '/content/drive/MyDrive/BayArea500NoHighways/val/output_478.png /content/drive/MyDrive/fixed_masks/output_28_fake_B_0.png /content/drive/MyDrive/BayArea500NoHighways/bad/out_output_478.png', '/content/drive/MyDrive/BayArea500NoHighways/val/output_480.png /content/drive/MyDrive/fixed_masks/output_29_fake_B_0.png /content/drive/MyDrive/BayArea500NoHighways/bad/out_output_480.png', '/content/drive/MyDrive/BayArea500NoHighways/val/output_481.png /content/drive/MyDrive/fixed_masks/output_30_fake_B_0.png /content/drive/MyDrive/BayArea500NoHighways/bad/out_output_481.png', '/content/drive/MyDrive/BayArea500NoHighways/val/output_482.png /content/drive/MyDrive/fixed_masks/output_31_fake_B_0.png /content/drive/MyDrive/BayArea500NoHighways/bad/out_output_482.png', '/content/drive/MyDrive/BayArea500NoHighways/val/output_483.png /content/drive/MyDrive/fixed_masks/output_32_fake_B_0.png /content/drive/MyDrive/BayArea500NoHighways/bad/out_output_483.png', '/content/drive/MyDrive/BayArea500NoHighways/val/output_484.png /content/drive/MyDrive/fixed_masks/output_33_fake_B_0.png /content/drive/MyDrive/BayArea500NoHighways/bad/out_output_484.png', '/content/drive/MyDrive/BayArea500NoHighways/val/output_485.png /content/drive/MyDrive/fixed_masks/output_34_fake_B_0.png /content/drive/MyDrive/BayArea500NoHighways/bad/out_output_485.png', '/content/drive/MyDrive/BayArea500NoHighways/val/output_486.png /content/drive/MyDrive/fixed_masks/output_35_fake_B_0.png /content/drive/MyDrive/BayArea500NoHighways/bad/out_output_486.png', '/content/drive/MyDrive/BayArea500NoHighways/val/output_487.png /content/drive/MyDrive/fixed_masks/output_36_fake_B_0.png /content/drive/MyDrive/BayArea500NoHighways/bad/out_output_487.png', '/content/drive/MyDrive/BayArea500NoHighways/val/output_488.png /content/drive/MyDrive/fixed_masks/output_37_fake_B_0.png /content/drive/MyDrive/BayArea500NoHighways/bad/out_output_488.png', '/content/drive/MyDrive/BayArea500NoHighways/val/output_489.png /content/drive/MyDrive/fixed_masks/output_38_fake_B_0.png /content/drive/MyDrive/BayArea500NoHighways/bad/out_output_489.png', '/content/drive/MyDrive/BayArea500NoHighways/val/output_490.png /content/drive/MyDrive/fixed_masks/output_39_fake_B_0.png /content/drive/MyDrive/BayArea500NoHighways/bad/out_output_490.png', '/content/drive/MyDrive/BayArea500NoHighways/val/output_491.png /content/drive/MyDrive/fixed_masks/output_40_fake_B_0.png /content/drive/MyDrive/BayArea500NoHighways/bad/out_output_491.png', '/content/drive/MyDrive/BayArea500NoHighways/val/output_492.png /content/drive/MyDrive/fixed_masks/output_41_fake_B_0.png /content/drive/MyDrive/BayArea500NoHighways/bad/out_output_492.png', '/content/drive/MyDrive/BayArea500NoHighways/val/output_493.png /content/drive/MyDrive/fixed_masks/output_42_fake_B_0.png /content/drive/MyDrive/BayArea500NoHighways/bad/out_output_493.png', '/content/drive/MyDrive/BayArea500NoHighways/val/output_494.png /content/drive/MyDrive/fixed_masks/output_43_fake_B_0.png /content/drive/MyDrive/BayArea500NoHighways/bad/out_output_494.png', '/content/drive/MyDrive/BayArea500NoHighways/val/output_495.png /content/drive/MyDrive/fixed_masks/output_44_fake_B_0.png /content/drive/MyDrive/BayArea500NoHighways/bad/out_output_495.png', '/content/drive/MyDrive/BayArea500NoHighways/val/output_496.png /content/drive/MyDrive/fixed_masks/output_45_fake_B_0.png /content/drive/MyDrive/BayArea500NoHighways/bad/out_output_496.png', '/content/drive/MyDrive/BayArea500NoHighways/val/output_497.png /content/drive/MyDrive/fixed_masks/output_46_fake_B_0.png /content/drive/MyDrive/BayArea500NoHighways/bad/out_output_497.png', '/content/drive/MyDrive/BayArea500NoHighways/val/output_498.png /content/drive/MyDrive/fixed_masks/output_47_fake_B_0.png /content/drive/MyDrive/BayArea500NoHighways/bad/out_output_498.png', '/content/drive/MyDrive/BayArea500NoHighways/val/output_499.png /content/drive/MyDrive/fixed_masks/output_48_fake_B_0.png /content/drive/MyDrive/BayArea500NoHighways/bad/out_output_499.png', '/content/drive/MyDrive/BayArea500NoHighways/val/output_500.png /content/drive/MyDrive/fixed_masks/output_49_fake_B_0.png /content/drive/MyDrive/BayArea500NoHighways/bad/out_output_500.png', '/content/drive/MyDrive/BayArea500NoHighways/val/output_501.png /content/drive/MyDrive/fixed_masks/output_50_fake_B_0.png /content/drive/MyDrive/BayArea500NoHighways/bad/out_output_501.png', '/content/drive/MyDrive/BayArea500NoHighways/val/output_503.png /content/drive/MyDrive/fixed_masks/output_51_fake_B_0.png /content/drive/MyDrive/BayArea500NoHighways/bad/out_output_503.png', '/content/drive/MyDrive/BayArea500NoHighways/val/output_502.png /content/drive/MyDrive/fixed_masks/output_52_fake_B_0.png /content/drive/MyDrive/BayArea500NoHighways/bad/out_output_502.png', '/content/drive/MyDrive/BayArea500NoHighways/val/output_504.png /content/drive/MyDrive/fixed_masks/output_53_fake_B_0.png /content/drive/MyDrive/BayArea500NoHighways/bad/out_output_504.png']\n"
          ]
        }
      ]
    },
    {
      "cell_type": "markdown",
      "source": [
        "I use batch_test to generate the 54 real/fake pairs by modifying the checkpoint below. gan_mask is the model trained with the pix2pix masks\n",
        "\n",
        "I draw on: https://torchmetrics.readthedocs.io/en/latest/references/modules.html#id8"
      ],
      "metadata": {
        "id": "NtzgMktMDtBc"
      }
    },
    {
      "cell_type": "code",
      "metadata": {
        "id": "Swhh4H7YbBLv"
      },
      "source": [
        "%cd /content/drive/MyDrive/generative_inpainting\n",
        "!python /content/drive/MyDrive/generative_inpainting/batch_test.py --flist /content/test.flist --image_height 256 --image_width 256 --checkpoint_dir /content/drive/MyDrive/generative_inpainting/logs/gan_mask"
      ],
      "execution_count": null,
      "outputs": []
    },
    {
      "cell_type": "markdown",
      "source": [
        "I vectorize the 54 images"
      ],
      "metadata": {
        "id": "m0B2dAFRD-j6"
      }
    },
    {
      "cell_type": "code",
      "metadata": {
        "colab": {
          "base_uri": "https://localhost:8080/"
        },
        "id": "T0MBtjqzbhAo",
        "outputId": "aecbbf44-508b-471a-cd88-c2d16aaae635"
      },
      "source": [
        "import torch\n",
        "from torchvision import transforms\n",
        "from PIL import Image\n",
        "convert = transforms.ToTensor()\n",
        "image_fake = Image.open(\"/content/drive/MyDrive/BayArea500NoHighways/bad/out_output_452.png\")\n",
        "t_fake = convert(image_fake)\n",
        "t_fake = t_fake[0:3,:,:]\n",
        "t_fake = torch.unsqueeze(t_fake,0)\n",
        "image_real = Image.open(\"/content/drive/MyDrive/BayArea500NoHighways/val/output_452.png\")\n",
        "t_real = convert(image_real)\n",
        "t_real = t_real[0:3,:,:]\n",
        "t_real = torch.unsqueeze(t_real,0)\n",
        "for i in range(451,504):\n",
        "  image = Image.open(\"/content/drive/MyDrive/BayArea500NoHighways/bad/out_output_\"+str(i)+\".png\")\n",
        "  t1 = convert(image)\n",
        "  t1 = t1[0:3,:,:]\n",
        "  t1 = torch.unsqueeze(t1,0)\n",
        "  t_fake = torch.cat((t_fake,t1),dim=0)\n",
        "  image = Image.open(\"/content/drive/MyDrive/BayArea500NoHighways/val/output_\"+str(i)+\".png\")\n",
        "  t2 = convert(image)\n",
        "  t2 = t2[0:3,:,:]\n",
        "  t2 = torch.unsqueeze(t2,0)\n",
        "  t_real = torch.cat((t_real,t2),dim=0)\n",
        "print(t_real.size())\n",
        "print(t_fake.size())"
      ],
      "execution_count": null,
      "outputs": [
        {
          "output_type": "stream",
          "name": "stdout",
          "text": [
            "torch.Size([54, 3, 256, 256])\n",
            "torch.Size([54, 3, 256, 256])\n"
          ]
        }
      ]
    },
    {
      "cell_type": "code",
      "metadata": {
        "id": "5SD_KBxIbl0c"
      },
      "source": [
        "#!pip install torchmetrics[image]\n",
        "#!pip install lpips\n",
        "from torchmetrics.image.lpip_similarity import LPIPS\n",
        "lpips = LPIPS(net_type='vgg')\n",
        "lpips(t_real, t_fake)"
      ],
      "execution_count": null,
      "outputs": []
    },
    {
      "cell_type": "code",
      "metadata": {
        "colab": {
          "base_uri": "https://localhost:8080/"
        },
        "id": "qkWzyqFHWnGI",
        "outputId": "7bd8a2c8-a695-43ac-db6d-635a3fb158b4"
      },
      "source": [
        "from torchmetrics.image.inception import IS\n",
        "_ = torch.manual_seed(3)\n",
        "inception = IS()\n",
        "t_fake = t_fake *255\n",
        "t_fake = torch.tensor(t_fake,dtype=torch.uint8)\n",
        "inception.update(t_fake)  \n",
        "inception.compute() "
      ],
      "execution_count": null,
      "outputs": [
        {
          "output_type": "stream",
          "name": "stderr",
          "text": [
            "/usr/local/lib/python3.7/dist-packages/torchmetrics/utilities/prints.py:36: UserWarning: Metric `IS` will save all extracted features in buffer. For large datasets this may lead to large memory footprint.\n",
            "  warnings.warn(*args, **kwargs)\n"
          ]
        },
        {
          "output_type": "execute_result",
          "data": {
            "text/plain": [
              "(tensor(1.), tensor(6.2829e-08))"
            ]
          },
          "metadata": {},
          "execution_count": 20
        }
      ]
    },
    {
      "cell_type": "code",
      "metadata": {
        "colab": {
          "base_uri": "https://localhost:8080/"
        },
        "id": "9JE24o99jFDb",
        "outputId": "d7f150fb-cad7-4f18-cd3a-3d230bf91ede"
      },
      "source": [
        "from torchmetrics.image.fid import FID\n",
        "fid = FID(feature=2048)\n",
        "_ = torch.manual_seed(3)\n",
        "t_real = t_real *255\n",
        "t_real = torch.tensor(t_real,dtype=torch.uint8)\n",
        "fid.update(t_real, real=True)  \n",
        "fid.update(t_fake, real=False)  \n",
        "fid.compute()  \n"
      ],
      "execution_count": null,
      "outputs": [
        {
          "output_type": "stream",
          "name": "stderr",
          "text": [
            "/usr/local/lib/python3.7/dist-packages/torchmetrics/utilities/prints.py:36: UserWarning: Metric `FID` will save all extracted features in buffer. For large datasets this may lead to large memory footprint.\n",
            "  warnings.warn(*args, **kwargs)\n",
            "/usr/local/lib/python3.7/dist-packages/ipykernel_launcher.py:7: UserWarning: To copy construct from a tensor, it is recommended to use sourceTensor.clone().detach() or sourceTensor.clone().detach().requires_grad_(True), rather than torch.tensor(sourceTensor).\n",
            "  import sys\n"
          ]
        },
        {
          "output_type": "execute_result",
          "data": {
            "text/plain": [
              "tensor(54.4727)"
            ]
          },
          "metadata": {},
          "execution_count": 14
        }
      ]
    },
    {
      "cell_type": "markdown",
      "source": [
        "I create the vectorized tensor to call IS scores on the test set and re-call cell above"
      ],
      "metadata": {
        "id": "ah-FQmFFEmrD"
      }
    },
    {
      "cell_type": "code",
      "metadata": {
        "id": "Ncw2vNmiWFbz"
      },
      "source": [
        "convert = transforms.ToTensor()\n",
        "image_fake = Image.open(\"/content/drive/MyDrive/BayAreaTest/test/output_1_gen_gan.png\")\n",
        "t_fake = convert(image_fake)\n",
        "t_fake = t_fake[0:3,:,:]\n",
        "t_fake = torch.unsqueeze(t_fake,0)\n",
        "for i in range(2,6):\n",
        "  image = Image.open(\"/content/drive/MyDrive/BayAreaTest/test/output_\"+str(i)+\"_gen_gan.png\")\n",
        "  t1 = convert(image)\n",
        "  t1 = t1[0:3,:,:]\n",
        "  t1 = torch.unsqueeze(t1,0)\n",
        "  t_fake = torch.cat((t_fake,t1),dim=0)\n",
        "for i in range(1,6):\n",
        "  image = Image.open(\"/content/drive/MyDrive/NOLATest/test/output_\"+str(i)+\"_gen_gan.png\")\n",
        "  t1 = convert(image)\n",
        "  t1 = t1[0:3,:,:]\n",
        "  t1 = torch.unsqueeze(t1,0)\n",
        "  t_fake = torch.cat((t_fake,t1),dim=0)\n",
        "t_fake = t_fake *255\n",
        "t_fake = torch.tensor(t_fake,dtype=torch.uint8)"
      ],
      "execution_count": null,
      "outputs": []
    },
    {
      "cell_type": "markdown",
      "source": [
        ""
      ],
      "metadata": {
        "id": "acazX160Eh8w"
      }
    },
    {
      "cell_type": "code",
      "metadata": {
        "colab": {
          "base_uri": "https://localhost:8080/"
        },
        "id": "6KMpq8En8Lkj",
        "outputId": "163e9306-e397-49a4-a203-679b7024abcd"
      },
      "source": [
        "from google.colab import drive\n",
        "drive.mount('/content/drive')"
      ],
      "execution_count": 1,
      "outputs": [
        {
          "output_type": "stream",
          "name": "stdout",
          "text": [
            "Mounted at /content/drive\n"
          ]
        }
      ]
    }
  ]
}